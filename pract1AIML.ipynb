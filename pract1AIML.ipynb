{
 "cells": [
  {
   "cell_type": "code",
   "execution_count": 2,
   "id": "2679ab06",
   "metadata": {},
   "outputs": [
    {
     "name": "stdout",
     "output_type": "stream",
     "text": [
      "{136: 'Rishabh kumar', 100: 'Aniket Lad', 103: 'Soumen Mondal'}\n",
      "dict_keys([136, 100, 103])\n",
      "dict_values(['Rishabh kumar', 'Aniket Lad', 'Soumen Mondal'])\n"
     ]
    }
   ],
   "source": [
    "dist1 = {136:\"Rishabh kumar\",100:\"Aniket Lad\",103:\"Soumen Mondal\"}\n",
    "print(dist1)\n",
    "print(dist1.keys())\n",
    "print(dist1.values())\n"
   ]
  },
  {
   "cell_type": "code",
   "execution_count": 3,
   "id": "aea9b148",
   "metadata": {},
   "outputs": [],
   "source": [
    "dist1.update({69:\"Mriganka Adhikary\"})"
   ]
  },
  {
   "cell_type": "code",
   "execution_count": 4,
   "id": "85d5a986",
   "metadata": {},
   "outputs": [
    {
     "name": "stdout",
     "output_type": "stream",
     "text": [
      "{136: 'Rishabh kumar', 100: 'Aniket Lad', 103: 'Soumen Mondal', 69: 'Mriganka Adhikary'}\n"
     ]
    }
   ],
   "source": [
    "print(dist1)\n"
   ]
  },
  {
   "cell_type": "code",
   "execution_count": 5,
   "id": "09970ab8",
   "metadata": {},
   "outputs": [
    {
     "name": "stdout",
     "output_type": "stream",
     "text": [
      "<class 'numpy.ndarray'>\n",
      "[2 3 4 5]\n"
     ]
    }
   ],
   "source": [
    "import numpy as np\n",
    "x=np.array([2,3,4,5])\n",
    "print(type(x))\n",
    "print(x)"
   ]
  },
  {
   "cell_type": "code",
   "execution_count": 6,
   "id": "6961e2a3",
   "metadata": {},
   "outputs": [
    {
     "name": "stdout",
     "output_type": "stream",
     "text": [
      "['2' '3' 'n' '5']\n"
     ]
    }
   ],
   "source": [
    "x=np.array([2,3,'n',5])\n",
    "print(x)\n"
   ]
  },
  {
   "cell_type": "code",
   "execution_count": 7,
   "id": "2ab9fae6",
   "metadata": {},
   "outputs": [
    {
     "name": "stdout",
     "output_type": "stream",
     "text": [
      "[ 1  6 11 16 21 26 31 36 41 46 51 56 61 66 71 76 81 86 91 96]\n"
     ]
    }
   ],
   "source": [
    "d=np.arange(start=1,stop=100,step=5)\n",
    "print(d)\n"
   ]
  },
  {
   "cell_type": "code",
   "execution_count": 8,
   "id": "2d780c5f",
   "metadata": {},
   "outputs": [
    {
     "data": {
      "text/plain": [
       "array([[1., 1., 1., 1.],\n",
       "       [1., 1., 1., 1.],\n",
       "       [1., 1., 1., 1.]])"
      ]
     },
     "execution_count": 8,
     "metadata": {},
     "output_type": "execute_result"
    }
   ],
   "source": [
    "\n",
    "np.ones((3,4))\n"
   ]
  },
  {
   "cell_type": "code",
   "execution_count": 9,
   "id": "374a71ef",
   "metadata": {},
   "outputs": [
    {
     "data": {
      "text/plain": [
       "array([0.16797756, 0.8851407 , 0.06873169, 0.7279946 , 0.17300213,\n",
       "       0.38493083])"
      ]
     },
     "execution_count": 9,
     "metadata": {},
     "output_type": "execute_result"
    }
   ],
   "source": [
    "np.random.rand(6)"
   ]
  },
  {
   "cell_type": "code",
   "execution_count": 10,
   "id": "440e68ec",
   "metadata": {},
   "outputs": [
    {
     "data": {
      "text/plain": [
       "array([1.00000000e+001, 5.62341325e+025, 3.16227766e+050, 1.77827941e+075,\n",
       "       1.00000000e+100])"
      ]
     },
     "execution_count": 10,
     "metadata": {},
     "output_type": "execute_result"
    }
   ],
   "source": [
    "np.logspace(start=1,stop=100,num=5,endpoint=True,base=10.0)"
   ]
  },
  {
   "cell_type": "code",
   "execution_count": 17,
   "id": "0465b89b",
   "metadata": {},
   "outputs": [],
   "source": [
    "grid=np.arange(start=1,stop=10).reshape(3,3)"
   ]
  },
  {
   "cell_type": "code",
   "execution_count": 18,
   "id": "921c11db",
   "metadata": {},
   "outputs": [
    {
     "name": "stdout",
     "output_type": "stream",
     "text": [
      "[[1 2 3]\n",
      " [4 5 6]\n",
      " [7 8 9]]\n"
     ]
    }
   ],
   "source": [
    "print(grid)"
   ]
  },
  {
   "cell_type": "code",
   "execution_count": 19,
   "id": "bd2cc2d9",
   "metadata": {},
   "outputs": [
    {
     "name": "stdout",
     "output_type": "stream",
     "text": [
      "[1 2 3 4 5 6 7 8 9]\n"
     ]
    }
   ],
   "source": [
    "grid=np.arange(start=1,stop=10)\n",
    "print(grid)"
   ]
  },
  {
   "cell_type": "code",
   "execution_count": 22,
   "id": "25512bfe",
   "metadata": {},
   "outputs": [
    {
     "name": "stdout",
     "output_type": "stream",
     "text": [
      "[[1 2 3]\n",
      " [4 5 6]\n",
      " [7 8 9]]\n"
     ]
    }
   ],
   "source": [
    "grid=np.arange(start=1,stop=10).reshape(3,3)\n",
    "print(grid)"
   ]
  },
  {
   "cell_type": "code",
   "execution_count": 23,
   "id": "80472de4",
   "metadata": {},
   "outputs": [
    {
     "data": {
      "text/plain": [
       "(3, 3)"
      ]
     },
     "execution_count": 23,
     "metadata": {},
     "output_type": "execute_result"
    }
   ],
   "source": [
    "a=np.array([[1,2,3],[4,5,6],[7,8,9]])\n",
    "a.shape"
   ]
  },
  {
   "cell_type": "code",
   "execution_count": 24,
   "id": "a50079e0",
   "metadata": {},
   "outputs": [
    {
     "name": "stdout",
     "output_type": "stream",
     "text": [
      "[[1 2 3]\n",
      " [4 5 6]\n",
      " [7 8 9]] [[1 2 3]\n",
      " [4 5 6]\n",
      " [7 8 9]]\n"
     ]
    }
   ],
   "source": [
    "a=np.array([[1,2,3],[4,5,6],[7,8,9]])\n",
    "b=np.arange(start=1,stop=10).reshape(3,3)\n",
    "print(a,b)"
   ]
  },
  {
   "cell_type": "code",
   "execution_count": 25,
   "id": "4f9a7b75",
   "metadata": {},
   "outputs": [
    {
     "name": "stdout",
     "output_type": "stream",
     "text": [
      "[[ 2  4  6]\n",
      " [ 8 10 12]\n",
      " [14 16 18]]\n"
     ]
    }
   ],
   "source": [
    "print(a+b)\n"
   ]
  },
  {
   "cell_type": "code",
   "execution_count": 26,
   "id": "985dc7fb",
   "metadata": {},
   "outputs": [
    {
     "name": "stdout",
     "output_type": "stream",
     "text": [
      "[[ 1  4  9]\n",
      " [16 25 36]\n",
      " [49 64 81]]\n"
     ]
    }
   ],
   "source": [
    "print(a*b)"
   ]
  },
  {
   "cell_type": "code",
   "execution_count": 28,
   "id": "1490e3e1",
   "metadata": {},
   "outputs": [
    {
     "name": "stdout",
     "output_type": "stream",
     "text": [
      "[[1 2 3]\n",
      " [4 5 6]\n",
      " [7 8 9]]\n"
     ]
    },
    {
     "data": {
      "text/plain": [
       "3"
      ]
     },
     "execution_count": 28,
     "metadata": {},
     "output_type": "execute_result"
    }
   ],
   "source": [
    "print(a)\n",
    "a[0,2]"
   ]
  },
  {
   "cell_type": "code",
   "execution_count": 29,
   "id": "6df4c19c",
   "metadata": {},
   "outputs": [],
   "source": [
    "a_sub=a[:2,:2]"
   ]
  },
  {
   "cell_type": "code",
   "execution_count": 30,
   "id": "69953351",
   "metadata": {},
   "outputs": [
    {
     "name": "stdout",
     "output_type": "stream",
     "text": [
      "[[1 2]\n",
      " [4 5]]\n"
     ]
    }
   ],
   "source": [
    "print(a_sub)"
   ]
  },
  {
   "cell_type": "code",
   "execution_count": 31,
   "id": "03d1cba6",
   "metadata": {},
   "outputs": [],
   "source": [
    "a_sub[0, 1] = 10"
   ]
  },
  {
   "cell_type": "code",
   "execution_count": 32,
   "id": "330b006c",
   "metadata": {},
   "outputs": [
    {
     "name": "stdout",
     "output_type": "stream",
     "text": [
      "[[ 1 10]\n",
      " [ 4  5]]\n"
     ]
    }
   ],
   "source": [
    "print(a_sub)"
   ]
  },
  {
   "cell_type": "code",
   "execution_count": 38,
   "id": "40e91f5a",
   "metadata": {},
   "outputs": [
    {
     "name": "stdout",
     "output_type": "stream",
     "text": [
      "[[ 1 10  3 10]\n",
      " [ 4  5  6 11]\n",
      " [ 7  8  9 14]]\n"
     ]
    }
   ],
   "source": [
    "a_sub = np.append(a, [[10], [11],[14]], axis=1)\n",
    "print(a_sub)"
   ]
  },
  {
   "cell_type": "code",
   "execution_count": null,
   "id": "763c302a",
   "metadata": {},
   "outputs": [],
   "source": []
  }
 ],
 "metadata": {
  "kernelspec": {
   "display_name": "Python 3 (ipykernel)",
   "language": "python",
   "name": "python3"
  },
  "language_info": {
   "codemirror_mode": {
    "name": "ipython",
    "version": 3
   },
   "file_extension": ".py",
   "mimetype": "text/x-python",
   "name": "python",
   "nbconvert_exporter": "python",
   "pygments_lexer": "ipython3",
   "version": "3.10.9"
  }
 },
 "nbformat": 4,
 "nbformat_minor": 5
}
